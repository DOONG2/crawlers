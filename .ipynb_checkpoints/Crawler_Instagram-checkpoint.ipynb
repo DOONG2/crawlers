{
 "cells": [
  {
   "cell_type": "code",
   "execution_count": 137,
   "metadata": {
    "colab": {},
    "colab_type": "code",
    "id": "F8zBnnx9xyXh"
   },
   "outputs": [],
   "source": [
    "import urllib.request\n",
    "from bs4 import BeautifulSoup\n",
    "from urllib.request import urlopen\n",
    "import urllib\n",
    "import pandas as pd\n",
    "from pandas import DataFrame\n",
    "import selenium\n",
    "from selenium import webdriver\n",
    "import time\n",
    "import re\n",
    "from selenium.webdriver.support.ui import WebDriverWait"
   ]
  },
  {
   "cell_type": "code",
   "execution_count": 138,
   "metadata": {},
   "outputs": [],
   "source": [
    "def get_clear_browsing_button(driver):\n",
    "    \"\"\"Find the \"CLEAR BROWSING BUTTON\" on the Chrome settings page.\"\"\"\n",
    "    return driver.execute_script(\"return document.querySelector('settings-ui').shadowRoot.querySelector('settings-main').shadowRoot.querySelector('settings-basic-page').shadowRoot.querySelector('settings-section > settings-privacy-page').shadowRoot.querySelector('settings-clear-browsing-data-dialog').shadowRoot.querySelector('#clearBrowsingDataDialog').querySelector('#clearBrowsingDataConfirm')\")\n",
    "\n",
    "\n",
    "def clear_cache(driver, timeout=5):\n",
    "    \"\"\"Clear the cookies and cache for the ChromeDriver instance.\"\"\"\n",
    "    # navigate to the settings page\n",
    "    driver.get('chrome://settings/clearBrowserData')\n",
    "\n",
    "    # wait for the button to appear\n",
    "    wait = WebDriverWait(driver, timeout)\n",
    "    \n",
    "    # click the button to clear the cache\n",
    "    get_clear_browsing_button(driver).click()\n",
    "\n",
    "    # wait for the button to be gone before returning\n",
    "    wait.until_not(get_clear_browsing_button)"
   ]
  },
  {
   "cell_type": "code",
   "execution_count": 139,
   "metadata": {},
   "outputs": [],
   "source": []
  },
  {
   "cell_type": "code",
   "execution_count": 140,
   "metadata": {},
   "outputs": [],
   "source": [
    "SCROLL_PAUSE_TIME = 3"
   ]
  },
  {
   "cell_type": "code",
   "execution_count": 141,
   "metadata": {},
   "outputs": [],
   "source": [
    "def nameCheck(name):\n",
    "\n",
    "    name = \"\".join(str(name).split())\n",
    "    if name.find(\":\") != -1:\n",
    "        print(name)\n",
    "        index = name.find(\":\")\n",
    "        name = name[:index]\n",
    "    return name"
   ]
  },
  {
   "cell_type": "code",
   "execution_count": 144,
   "metadata": {
    "colab": {},
    "colab_type": "code",
    "id": "q9XnArqo2gQM"
   },
   "outputs": [],
   "source": [
    "def getInstaResult():\n",
    "    \n",
    "    \n",
    "    for i in range(len(df)):\n",
    "        \n",
    "        urlcode_l = []\n",
    "        \n",
    "        \n",
    "        \n",
    "        # 영화Info 가져오기\n",
    "        Name = str(df.ix[i][\"movieNm\"])\n",
    "        name = nameCheck(Name)\n",
    "        openDt = str(df.ix[i][\"openDt\"].replace(\"-\",\"\"))\n",
    "        \n",
    "        print( Name ,\" - \", i , \" / \" , len(df))\n",
    "        \n",
    "        # 크롬웹드라이버 & URL 셋팅\n",
    "        driver = webdriver.Chrome('C:/chromedriver.exe')\n",
    "        driver.implicitly_wait(30)\n",
    "        def expand_shadow_element(element):\n",
    "            shadow_root = driver.execute_script('return arguments[0].shadowRoot', element)\n",
    "            return shadow_root\n",
    "        \n",
    "        url1 = 'https://www.instagram.com/explore/tags/'\n",
    "        url2 = '/?hl=ko'\n",
    "        URL = url1 + name + url2\n",
    "        driver.get(URL)\n",
    "        time.sleep(SCROLL_PAUSE_TIME)\n",
    "        html = driver.page_source\n",
    "        soup = BeautifulSoup(html, 'lxml')\n",
    "        try:\n",
    "            dumy = soup.find(\"span\", class_=\"g47SY\").get_text()\n",
    "        except:\n",
    "            print(Name, \"피드 x\")\n",
    "            continue\n",
    "        \n",
    "        # 페이지 갱신 확인 및 진입\n",
    "        try:\n",
    "            driver.find_element_by_class_name(\"_bz0w\").click()\n",
    "        except:\n",
    "            print(\"클릭 오류 : \" + name)\n",
    "            continue\n",
    "        \n",
    "        \n",
    "        while (True):\n",
    "            \n",
    "            # 해당 피드의 URL 갱신\n",
    "            driver.implicitly_wait(30)\n",
    "            time.sleep(SCROLL_PAUSE_TIME)\n",
    "            urlcode = driver.current_url\n",
    "            urlcode_l.append(urlcode)\n",
    "            \n",
    "            \n",
    "            # 탭에 피드 열기\n",
    "            driver.execute_script(\"window.open('{}');\".format(urlcode))\n",
    "            driver.implicitly_wait(30)\n",
    "            \n",
    "            # 해당 탭으로 이동\n",
    "            driver.switch_to.window(driver.window_handles[1])\n",
    "            driver.implicitly_wait(30)\n",
    "            \n",
    "            driver.delete_all_cookies()\n",
    "            \n",
    "            driver.get(\"chrome://settings/clearBrowserData\")\n",
    "            root1 = driver.find_element_by_tag_name('settings-ui')\n",
    "            shadow_root1 = expand_shadow_element(root1)\n",
    "\n",
    "            root2 = shadow_root1.find_element_by_css_selector('settings-main')\n",
    "            shadow_root2 = expand_shadow_element(root2)\n",
    "\n",
    "            root3 = shadow_root2.find_element_by_css_selector('settings-basic-page')\n",
    "            shadow_root3 = expand_shadow_element(root3)\n",
    "\n",
    "\n",
    "            root4 = shadow_root3.find_element_by_css_selector('settings-section > settings-privacy-page')\n",
    "            shadow_root4 = expand_shadow_element(root4)\n",
    "\n",
    "\n",
    "            root5 = shadow_root4.find_element_by_css_selector('settings-clear-browsing-data-dialog')\n",
    "            shadow_root5 = expand_shadow_element(root5)\n",
    "\n",
    "\n",
    "            root6 = shadow_root5.find_element_by_css_selector('#clearBrowsingDataDialog')\n",
    "            shadow_root6 = expand_shadow_element(root6)\n",
    "\n",
    "\n",
    "\n",
    "\n",
    "            search_button = shadow_root6.find_element_by_css_selector(\"#clearBrowsingDataConfirm\")\n",
    "            search_button.click()\n",
    "            \n",
    "            \n",
    "            #clear_cache(driver)\n",
    "            \n",
    "            \n",
    "            #driver.switch_to_active_element()\n",
    "            #driver.find_element_by_css_selector('* /deep/ #clearBrowsingDataConfirm')\n",
    "            print(\"delete cookies\")\n",
    "            \n",
    "            \n",
    "             # 메인 탭 활성화\n",
    "            driver.close()\n",
    "            driver.switch_to.window(driver.window_handles[0])\n",
    "            \n",
    "            \n",
    "            \n",
    "            \n",
    "            try:\n",
    "                driver.find_element_by_link_text(\"다음\").click()\n",
    "            except:\n",
    "                print(Name, \"끝\")\n",
    "                driver.close()\n",
    "                break\n",
    "            if len(urlcode_l) % 100 == 0:\n",
    "                print(Name ,len(urlcode_l) , \" / \", dumy)\n",
    "            if len(urlcode_l) % 2000 == 0:\n",
    "                driver.delete_all_cookies()\n",
    "            \n",
    "                \n",
    "        tempDic = {\"urlcode\": urlcode_l}\n",
    "        data = pd.DataFrame(tempDic)\n",
    "        data.to_csv(Name+\".csv\", mode='w')\n",
    "    \n",
    "        \n",
    "    \n",
    "    \n",
    "    "
   ]
  },
  {
   "cell_type": "code",
   "execution_count": 145,
   "metadata": {
    "colab": {},
    "colab_type": "code",
    "id": "Jv-2D6JKsxr1",
    "outputId": "a0cc362b-f674-4dc4-94e1-886ec5a6b46a"
   },
   "outputs": [
    {
     "name": "stderr",
     "output_type": "stream",
     "text": [
      "C:\\Users\\ie-09\\AppData\\Local\\Continuum\\anaconda3\\lib\\site-packages\\ipykernel_launcher.py:11: DeprecationWarning: \n",
      ".ix is deprecated. Please use\n",
      ".loc for label based indexing or\n",
      ".iloc for positional indexing\n",
      "\n",
      "See the documentation here:\n",
      "http://pandas.pydata.org/pandas-docs/stable/indexing.html#ix-indexer-is-deprecated\n",
      "  # This is added back by InteractiveShellApp.init_path()\n",
      "C:\\Users\\ie-09\\AppData\\Local\\Continuum\\anaconda3\\lib\\site-packages\\ipykernel_launcher.py:13: DeprecationWarning: \n",
      ".ix is deprecated. Please use\n",
      ".loc for label based indexing or\n",
      ".iloc for positional indexing\n",
      "\n",
      "See the documentation here:\n",
      "http://pandas.pydata.org/pandas-docs/stable/indexing.html#ix-indexer-is-deprecated\n",
      "  del sys.path[0]\n"
     ]
    },
    {
     "name": "stdout",
     "output_type": "stream",
     "text": [
      "테이큰 3  -  0  /  899\n"
     ]
    },
    {
     "ename": "NoSuchElementException",
     "evalue": "Message: no such element: Unable to locate element: {\"method\":\"css selector\",\"selector\":\"#clearBrowsingDataConfirm\"}\n  (Session info: chrome=76.0.3809.87)\n",
     "output_type": "error",
     "traceback": [
      "\u001b[1;31m---------------------------------------------------------------------------\u001b[0m",
      "\u001b[1;31mNoSuchElementException\u001b[0m                    Traceback (most recent call last)",
      "\u001b[1;32m<ipython-input-145-65731be2b261>\u001b[0m in \u001b[0;36m<module>\u001b[1;34m()\u001b[0m\n\u001b[0;32m      2\u001b[0m \u001b[0mdf\u001b[0m \u001b[1;33m=\u001b[0m \u001b[0mpd\u001b[0m\u001b[1;33m.\u001b[0m\u001b[0mread_csv\u001b[0m\u001b[1;33m(\u001b[0m\u001b[1;34m'movieInfo.csv'\u001b[0m\u001b[1;33m,\u001b[0m \u001b[0mencoding\u001b[0m \u001b[1;33m=\u001b[0m \u001b[1;34m\"utf-8\"\u001b[0m\u001b[1;33m)\u001b[0m\u001b[1;33m\u001b[0m\u001b[0m\n\u001b[0;32m      3\u001b[0m \u001b[1;33m\u001b[0m\u001b[0m\n\u001b[1;32m----> 4\u001b[1;33m \u001b[0mgetInstaResult\u001b[0m\u001b[1;33m(\u001b[0m\u001b[1;33m)\u001b[0m\u001b[1;33m\u001b[0m\u001b[0m\n\u001b[0m",
      "\u001b[1;32m<ipython-input-144-8d2a8e4d32a0>\u001b[0m in \u001b[0;36mgetInstaResult\u001b[1;34m()\u001b[0m\n\u001b[0;32m     87\u001b[0m \u001b[1;33m\u001b[0m\u001b[0m\n\u001b[0;32m     88\u001b[0m \u001b[1;33m\u001b[0m\u001b[0m\n\u001b[1;32m---> 89\u001b[1;33m             \u001b[0msearch_button\u001b[0m \u001b[1;33m=\u001b[0m \u001b[0mshadow_root6\u001b[0m\u001b[1;33m.\u001b[0m\u001b[0mfind_element_by_css_selector\u001b[0m\u001b[1;33m(\u001b[0m\u001b[1;34m\"#clearBrowsingDataConfirm\"\u001b[0m\u001b[1;33m)\u001b[0m\u001b[1;33m\u001b[0m\u001b[0m\n\u001b[0m\u001b[0;32m     90\u001b[0m             \u001b[0msearch_button\u001b[0m\u001b[1;33m.\u001b[0m\u001b[0mclick\u001b[0m\u001b[1;33m(\u001b[0m\u001b[1;33m)\u001b[0m\u001b[1;33m\u001b[0m\u001b[0m\n\u001b[0;32m     91\u001b[0m \u001b[1;33m\u001b[0m\u001b[0m\n",
      "\u001b[1;32m~\\AppData\\Local\\Continuum\\anaconda3\\lib\\site-packages\\selenium\\webdriver\\remote\\webelement.py\u001b[0m in \u001b[0;36mfind_element_by_css_selector\u001b[1;34m(self, css_selector)\u001b[0m\n\u001b[0;32m    428\u001b[0m             \u001b[0melement\u001b[0m \u001b[1;33m=\u001b[0m \u001b[0melement\u001b[0m\u001b[1;33m.\u001b[0m\u001b[0mfind_element_by_css_selector\u001b[0m\u001b[1;33m(\u001b[0m\u001b[1;34m'#foo'\u001b[0m\u001b[1;33m)\u001b[0m\u001b[1;33m\u001b[0m\u001b[0m\n\u001b[0;32m    429\u001b[0m         \"\"\"\n\u001b[1;32m--> 430\u001b[1;33m         \u001b[1;32mreturn\u001b[0m \u001b[0mself\u001b[0m\u001b[1;33m.\u001b[0m\u001b[0mfind_element\u001b[0m\u001b[1;33m(\u001b[0m\u001b[0mby\u001b[0m\u001b[1;33m=\u001b[0m\u001b[0mBy\u001b[0m\u001b[1;33m.\u001b[0m\u001b[0mCSS_SELECTOR\u001b[0m\u001b[1;33m,\u001b[0m \u001b[0mvalue\u001b[0m\u001b[1;33m=\u001b[0m\u001b[0mcss_selector\u001b[0m\u001b[1;33m)\u001b[0m\u001b[1;33m\u001b[0m\u001b[0m\n\u001b[0m\u001b[0;32m    431\u001b[0m \u001b[1;33m\u001b[0m\u001b[0m\n\u001b[0;32m    432\u001b[0m     \u001b[1;32mdef\u001b[0m \u001b[0mfind_elements_by_css_selector\u001b[0m\u001b[1;33m(\u001b[0m\u001b[0mself\u001b[0m\u001b[1;33m,\u001b[0m \u001b[0mcss_selector\u001b[0m\u001b[1;33m)\u001b[0m\u001b[1;33m:\u001b[0m\u001b[1;33m\u001b[0m\u001b[0m\n",
      "\u001b[1;32m~\\AppData\\Local\\Continuum\\anaconda3\\lib\\site-packages\\selenium\\webdriver\\remote\\webelement.py\u001b[0m in \u001b[0;36mfind_element\u001b[1;34m(self, by, value)\u001b[0m\n\u001b[0;32m    657\u001b[0m \u001b[1;33m\u001b[0m\u001b[0m\n\u001b[0;32m    658\u001b[0m         return self._execute(Command.FIND_CHILD_ELEMENT,\n\u001b[1;32m--> 659\u001b[1;33m                              {\"using\": by, \"value\": value})['value']\n\u001b[0m\u001b[0;32m    660\u001b[0m \u001b[1;33m\u001b[0m\u001b[0m\n\u001b[0;32m    661\u001b[0m     \u001b[1;32mdef\u001b[0m \u001b[0mfind_elements\u001b[0m\u001b[1;33m(\u001b[0m\u001b[0mself\u001b[0m\u001b[1;33m,\u001b[0m \u001b[0mby\u001b[0m\u001b[1;33m=\u001b[0m\u001b[0mBy\u001b[0m\u001b[1;33m.\u001b[0m\u001b[0mID\u001b[0m\u001b[1;33m,\u001b[0m \u001b[0mvalue\u001b[0m\u001b[1;33m=\u001b[0m\u001b[1;32mNone\u001b[0m\u001b[1;33m)\u001b[0m\u001b[1;33m:\u001b[0m\u001b[1;33m\u001b[0m\u001b[0m\n",
      "\u001b[1;32m~\\AppData\\Local\\Continuum\\anaconda3\\lib\\site-packages\\selenium\\webdriver\\remote\\webelement.py\u001b[0m in \u001b[0;36m_execute\u001b[1;34m(self, command, params)\u001b[0m\n\u001b[0;32m    631\u001b[0m             \u001b[0mparams\u001b[0m \u001b[1;33m=\u001b[0m \u001b[1;33m{\u001b[0m\u001b[1;33m}\u001b[0m\u001b[1;33m\u001b[0m\u001b[0m\n\u001b[0;32m    632\u001b[0m         \u001b[0mparams\u001b[0m\u001b[1;33m[\u001b[0m\u001b[1;34m'id'\u001b[0m\u001b[1;33m]\u001b[0m \u001b[1;33m=\u001b[0m \u001b[0mself\u001b[0m\u001b[1;33m.\u001b[0m\u001b[0m_id\u001b[0m\u001b[1;33m\u001b[0m\u001b[0m\n\u001b[1;32m--> 633\u001b[1;33m         \u001b[1;32mreturn\u001b[0m \u001b[0mself\u001b[0m\u001b[1;33m.\u001b[0m\u001b[0m_parent\u001b[0m\u001b[1;33m.\u001b[0m\u001b[0mexecute\u001b[0m\u001b[1;33m(\u001b[0m\u001b[0mcommand\u001b[0m\u001b[1;33m,\u001b[0m \u001b[0mparams\u001b[0m\u001b[1;33m)\u001b[0m\u001b[1;33m\u001b[0m\u001b[0m\n\u001b[0m\u001b[0;32m    634\u001b[0m \u001b[1;33m\u001b[0m\u001b[0m\n\u001b[0;32m    635\u001b[0m     \u001b[1;32mdef\u001b[0m \u001b[0mfind_element\u001b[0m\u001b[1;33m(\u001b[0m\u001b[0mself\u001b[0m\u001b[1;33m,\u001b[0m \u001b[0mby\u001b[0m\u001b[1;33m=\u001b[0m\u001b[0mBy\u001b[0m\u001b[1;33m.\u001b[0m\u001b[0mID\u001b[0m\u001b[1;33m,\u001b[0m \u001b[0mvalue\u001b[0m\u001b[1;33m=\u001b[0m\u001b[1;32mNone\u001b[0m\u001b[1;33m)\u001b[0m\u001b[1;33m:\u001b[0m\u001b[1;33m\u001b[0m\u001b[0m\n",
      "\u001b[1;32m~\\AppData\\Local\\Continuum\\anaconda3\\lib\\site-packages\\selenium\\webdriver\\remote\\webdriver.py\u001b[0m in \u001b[0;36mexecute\u001b[1;34m(self, driver_command, params)\u001b[0m\n\u001b[0;32m    319\u001b[0m         \u001b[0mresponse\u001b[0m \u001b[1;33m=\u001b[0m \u001b[0mself\u001b[0m\u001b[1;33m.\u001b[0m\u001b[0mcommand_executor\u001b[0m\u001b[1;33m.\u001b[0m\u001b[0mexecute\u001b[0m\u001b[1;33m(\u001b[0m\u001b[0mdriver_command\u001b[0m\u001b[1;33m,\u001b[0m \u001b[0mparams\u001b[0m\u001b[1;33m)\u001b[0m\u001b[1;33m\u001b[0m\u001b[0m\n\u001b[0;32m    320\u001b[0m         \u001b[1;32mif\u001b[0m \u001b[0mresponse\u001b[0m\u001b[1;33m:\u001b[0m\u001b[1;33m\u001b[0m\u001b[0m\n\u001b[1;32m--> 321\u001b[1;33m             \u001b[0mself\u001b[0m\u001b[1;33m.\u001b[0m\u001b[0merror_handler\u001b[0m\u001b[1;33m.\u001b[0m\u001b[0mcheck_response\u001b[0m\u001b[1;33m(\u001b[0m\u001b[0mresponse\u001b[0m\u001b[1;33m)\u001b[0m\u001b[1;33m\u001b[0m\u001b[0m\n\u001b[0m\u001b[0;32m    322\u001b[0m             response['value'] = self._unwrap_value(\n\u001b[0;32m    323\u001b[0m                 response.get('value', None))\n",
      "\u001b[1;32m~\\AppData\\Local\\Continuum\\anaconda3\\lib\\site-packages\\selenium\\webdriver\\remote\\errorhandler.py\u001b[0m in \u001b[0;36mcheck_response\u001b[1;34m(self, response)\u001b[0m\n\u001b[0;32m    240\u001b[0m                 \u001b[0malert_text\u001b[0m \u001b[1;33m=\u001b[0m \u001b[0mvalue\u001b[0m\u001b[1;33m[\u001b[0m\u001b[1;34m'alert'\u001b[0m\u001b[1;33m]\u001b[0m\u001b[1;33m.\u001b[0m\u001b[0mget\u001b[0m\u001b[1;33m(\u001b[0m\u001b[1;34m'text'\u001b[0m\u001b[1;33m)\u001b[0m\u001b[1;33m\u001b[0m\u001b[0m\n\u001b[0;32m    241\u001b[0m             \u001b[1;32mraise\u001b[0m \u001b[0mexception_class\u001b[0m\u001b[1;33m(\u001b[0m\u001b[0mmessage\u001b[0m\u001b[1;33m,\u001b[0m \u001b[0mscreen\u001b[0m\u001b[1;33m,\u001b[0m \u001b[0mstacktrace\u001b[0m\u001b[1;33m,\u001b[0m \u001b[0malert_text\u001b[0m\u001b[1;33m)\u001b[0m\u001b[1;33m\u001b[0m\u001b[0m\n\u001b[1;32m--> 242\u001b[1;33m         \u001b[1;32mraise\u001b[0m \u001b[0mexception_class\u001b[0m\u001b[1;33m(\u001b[0m\u001b[0mmessage\u001b[0m\u001b[1;33m,\u001b[0m \u001b[0mscreen\u001b[0m\u001b[1;33m,\u001b[0m \u001b[0mstacktrace\u001b[0m\u001b[1;33m)\u001b[0m\u001b[1;33m\u001b[0m\u001b[0m\n\u001b[0m\u001b[0;32m    243\u001b[0m \u001b[1;33m\u001b[0m\u001b[0m\n\u001b[0;32m    244\u001b[0m     \u001b[1;32mdef\u001b[0m \u001b[0m_value_or_default\u001b[0m\u001b[1;33m(\u001b[0m\u001b[0mself\u001b[0m\u001b[1;33m,\u001b[0m \u001b[0mobj\u001b[0m\u001b[1;33m,\u001b[0m \u001b[0mkey\u001b[0m\u001b[1;33m,\u001b[0m \u001b[0mdefault\u001b[0m\u001b[1;33m)\u001b[0m\u001b[1;33m:\u001b[0m\u001b[1;33m\u001b[0m\u001b[0m\n",
      "\u001b[1;31mNoSuchElementException\u001b[0m: Message: no such element: Unable to locate element: {\"method\":\"css selector\",\"selector\":\"#clearBrowsingDataConfirm\"}\n  (Session info: chrome=76.0.3809.87)\n"
     ]
    }
   ],
   "source": [
    "\n",
    "df = pd.read_csv('movieInfo.csv', encoding = \"utf-8\")\n",
    "\n",
    "getInstaResult()"
   ]
  },
  {
   "cell_type": "code",
   "execution_count": null,
   "metadata": {},
   "outputs": [],
   "source": [
    "\n",
    "$x('/')[0].querySelector('settings-ui').shadowRoot.querySelector('settings-main').shadowRoot.querySelector('settings-basic-page').shadowRoot.querySelector('settings-section > settings-privacy-page').shadowRoot.querySelector('settings-clear-browsing-data-dialog').shadowRoot.querySelector('#clearBrowsingDataDialog').querySelector('#clearBrowsingDataConfirm')"
   ]
  },
  {
   "cell_type": "code",
   "execution_count": null,
   "metadata": {},
   "outputs": [],
   "source": []
  },
  {
   "cell_type": "code",
   "execution_count": null,
   "metadata": {},
   "outputs": [],
   "source": []
  },
  {
   "cell_type": "code",
   "execution_count": null,
   "metadata": {},
   "outputs": [],
   "source": []
  },
  {
   "cell_type": "code",
   "execution_count": null,
   "metadata": {},
   "outputs": [],
   "source": [
    "driver.get(\"chrome://settings/clearBrowserData\")\n",
    "root1 = driver.find_element_by_tag_name('downloads-manager')\n",
    "shadow_root1 = expand_shadow_element(root1)\n",
    "\n",
    "root2 = shadow_root1.find_element_by_css_selector('settings-ui')\n",
    "shadow_root2 = expand_shadow_element(root2)\n",
    "\n",
    "root3 = shadow_root2.find_element_by_css_selector('settings-main')\n",
    "shadow_root3 = expand_shadow_element(root3)\n",
    "\n",
    "\n",
    "root4 = shadow_root3.find_element_by_css_selector('settings-basic-page')\n",
    "shadow_root4 = expand_shadow_element(root4)\n",
    "\n",
    "\n",
    "root5 = shadow_root4.find_element_by_css_selector('settings-section > settings-privacy-page')\n",
    "shadow_root5 = expand_shadow_element(root5)\n",
    "\n",
    "\n",
    "root6 = shadow_root5.find_element_by_css_selector('settings-clear-browsing-data-dialog')\n",
    "shadow_root6 = expand_shadow_element(root6)\n",
    "\n",
    "root7 = shadow_root6.find_element_by_css_selector('#clearBrowsingDataDialog')\n",
    "shadow_root7 = expand_shadow_element(root7)\n",
    "\n",
    "\n",
    "\n",
    "search_button = shadow_root7.find_element_by_css_selector(\"#clearBrowsingDataConfirm\")\n",
    "search_button.click()"
   ]
  },
  {
   "cell_type": "code",
   "execution_count": null,
   "metadata": {
    "colab": {},
    "colab_type": "code",
    "id": "LHvx1NOi9yDh"
   },
   "outputs": [],
   "source": [
    "Name = \"Dds\"\n",
    "urlcode_l = [1,2,3,4,5,6,67,7]\n",
    "\n",
    "tempDic = {\"urlcode\": urlcode_l}\n",
    "data = pd.DataFrame(tempDic)\n",
    "data.to_csv(Name+\".csv\", mode='w')"
   ]
  },
  {
   "cell_type": "code",
   "execution_count": 0,
   "metadata": {
    "colab": {},
    "colab_type": "code",
    "id": "BAnlYCSLsxsG"
   },
   "outputs": [],
   "source": [
    "# 기타 메모\n",
    "'''\n",
    "            try:\n",
    "                more = driver.find_element_by_css_selector(\"div#EizgU\").click()\n",
    "                for i in range(0,len(more)):\n",
    "                    if more[i].is_displayed():\n",
    "                        more[i].click()\n",
    "            except:\n",
    "                print(\"Ok----\")\n",
    "            '''\n",
    "\n",
    "\n",
    "'''\n",
    "            reple_list = []\n",
    "            for ul in uls:\n",
    "                reple = ul.find(\"span\").get_text()\n",
    "                reple_list.append(reple)\n",
    "            '''"
   ]
  }
 ],
 "metadata": {
  "colab": {
   "collapsed_sections": [],
   "name": "Crawler_Instagram.ipynb",
   "provenance": [],
   "version": "0.3.2"
  },
  "kernelspec": {
   "display_name": "Python 3",
   "language": "python",
   "name": "python3"
  },
  "language_info": {
   "codemirror_mode": {
    "name": "ipython",
    "version": 3
   },
   "file_extension": ".py",
   "mimetype": "text/x-python",
   "name": "python",
   "nbconvert_exporter": "python",
   "pygments_lexer": "ipython3",
   "version": "3.7.3"
  }
 },
 "nbformat": 4,
 "nbformat_minor": 1
}
