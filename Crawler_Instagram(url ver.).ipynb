{
 "cells": [
  {
   "cell_type": "code",
   "execution_count": 8,
   "metadata": {
    "colab": {},
    "colab_type": "code",
    "id": "F8zBnnx9xyXh"
   },
   "outputs": [],
   "source": [
    "import urllib.request\n",
    "from bs4 import BeautifulSoup\n",
    "from urllib.request import urlopen\n",
    "import urllib\n",
    "import pandas as pd\n",
    "from pandas import DataFrame\n",
    "import selenium\n",
    "from selenium import webdriver\n",
    "import time\n",
    "import re"
   ]
  },
  {
   "cell_type": "code",
   "execution_count": 9,
   "metadata": {},
   "outputs": [],
   "source": [
    "SCROLL_PAUSE_TIME = 3"
   ]
  },
  {
   "cell_type": "code",
   "execution_count": 10,
   "metadata": {},
   "outputs": [],
   "source": [
    "def nameCheck(name):\n",
    "\n",
    "    name = \"\".join(str(name).split())\n",
    "    if name.find(\":\") != -1:\n",
    "        print(name)\n",
    "        index = name.find(\":\")\n",
    "        name = name[:index]\n",
    "    return name"
   ]
  },
  {
   "cell_type": "code",
   "execution_count": 17,
   "metadata": {
    "colab": {},
    "colab_type": "code",
    "id": "q9XnArqo2gQM"
   },
   "outputs": [],
   "source": [
    "def getInstaResult():\n",
    "    \n",
    "    \n",
    "    for i in range(len(df)):\n",
    "        '''\n",
    "        tempDic = {}\n",
    "        main_text_l = []\n",
    "        like_l = []\n",
    "        feed_date_l = []\n",
    "        reple_count_l = []\n",
    "        '''\n",
    "        \n",
    "        urlcode_l = []\n",
    "        \n",
    "        # 영화Info 가져오기\n",
    "        Name = str(df.ix[i][\"movieNm\"])\n",
    "        name = nameCheck(Name)\n",
    "        openDt = str(df.ix[i][\"openDt\"].replace(\"-\",\"\"))\n",
    "        \n",
    "        print( Name ,\" - \", i , \" / \" , len(df))\n",
    "        \n",
    "        # 크롬웹드라이버 & URL 셋팅\n",
    "        driver = webdriver.Chrome('C:/chromedriver.exe')\n",
    "        driver.implicitly_wait(30)\n",
    "        url1 = 'https://www.instagram.com/explore/tags/'\n",
    "        url2 = '/?hl=ko'\n",
    "        URL = url1 + name + url2\n",
    "        driver.get(URL)\n",
    "        time.sleep(SCROLL_PAUSE_TIME)\n",
    "        html = driver.page_source\n",
    "        soup = BeautifulSoup(html, 'lxml')\n",
    "        try:\n",
    "            dumy = soup.find(\"span\", class_=\"g47SY\").get_text()\n",
    "        except:\n",
    "            print(Name, \"피드 x\")\n",
    "            driver.close()\n",
    "            continue\n",
    "        \n",
    "        dumy = int(dumy.replace(\",\", \"\"))\n",
    "        print(dumy)\n",
    "        if dumy >= 4000:\n",
    "            driver.close()\n",
    "            continue\n",
    "        \n",
    "        # 페이지 갱신 확인 및 진입\n",
    "        class_name  = \"_bz0w\"\n",
    "        try:\n",
    "            driver.find_element_by_class_name(\"_bz0w\").click()\n",
    "        except:\n",
    "            print(\"클릭 오류 : \" + name)\n",
    "            continue\n",
    "        \n",
    "        while (True):\n",
    "            \n",
    "            \n",
    "            # 해당 피드의 URL 갱신\n",
    "            driver.implicitly_wait(30)\n",
    "            time.sleep(SCROLL_PAUSE_TIME)\n",
    "            urlcode = driver.current_url\n",
    "            \n",
    "            urlcode_l.append(urlcode)\n",
    "            '''\n",
    "            # 탭에 피드 열기\n",
    "            driver.execute_script(\"window.open('{}');\".format(urlcode))\n",
    "            driver.implicitly_wait(30)\n",
    "            \n",
    "            # 해당 탭으로 이동\n",
    "            driver.switch_to.window(driver.window_handles[1])\n",
    "            driver.implicitly_wait(30)\n",
    "            \n",
    "            # 전체페이지 객체화\n",
    "            html = driver.page_source\n",
    "            soup = BeautifulSoup(html, 'lxml')\n",
    "            \n",
    "            \n",
    "            \n",
    "            # 피드 본문\n",
    "            try:\n",
    "                mains = soup.find(\"div\", class_='C4VMK')\n",
    "                # 본문 텍스트 부분\n",
    "                main_text = mains.find(\"span\").get_text()\n",
    "\n",
    "                # 피드 작성일\n",
    "                feed_dates = soup.find(\"div\", class_=\"NnvRN\")\n",
    "                feed_date = feed_dates.find(\"time\")['title']\n",
    "\n",
    "                # 댓글 수\n",
    "                uls = soup.find_all(\"ul\", class_='Mr508')\n",
    "                reple_count = len(uls)\n",
    "                \n",
    "                # 좋아요 갯수\n",
    "                try:\n",
    "                    likes = soup.find(\"div\", class_=\"Nm9Fw\")\n",
    "                    like = likes.find(\"span\").get_text()\n",
    "                    like_l.append(like)\n",
    "                except:\n",
    "                    like_l.append(\"null\")\n",
    "                    \n",
    "                # 변수 list 저장\n",
    "                main_text_l.append(main_text)\n",
    "                feed_date_l.append(feed_date)\n",
    "                reple_count_l.append(reple_count)\n",
    "                \n",
    "            except:\n",
    "                continue\n",
    "                \n",
    "            '''\n",
    "            # 메인 탭 활성화\n",
    "            #driver.close()\n",
    "            #driver.switch_to.window(driver.window_handles[0])\n",
    "            try:\n",
    "                driver.find_element_by_link_text(\"다음\").click()\n",
    "            except:\n",
    "                print(Name, \"끝\")\n",
    "                driver.close()\n",
    "                break\n",
    "            if len(urlcode_l) % 100 == 0:\n",
    "                print(Name ,len(urlcode_l) , \" / \", dumy)\n",
    "                \n",
    "        tempDic = {\"urlcode\": urlcode_l}\n",
    "        data = pd.DataFrame(tempDic)\n",
    "        data.to_csv(Name+\".csv\", mode='w')\n",
    "    \n",
    "        \n",
    "    \n",
    "    \n",
    "    "
   ]
  },
  {
   "cell_type": "code",
   "execution_count": null,
   "metadata": {},
   "outputs": [],
   "source": []
  },
  {
   "cell_type": "code",
   "execution_count": 18,
   "metadata": {
    "colab": {},
    "colab_type": "code",
    "id": "Jv-2D6JKsxr1",
    "outputId": "a0cc362b-f674-4dc4-94e1-886ec5a6b46a"
   },
   "outputs": [
    {
     "name": "stderr",
     "output_type": "stream",
     "text": [
      "C:\\Users\\ie-09\\AppData\\Local\\Continuum\\anaconda3\\lib\\site-packages\\ipykernel_launcher.py:16: DeprecationWarning: \n",
      ".ix is deprecated. Please use\n",
      ".loc for label based indexing or\n",
      ".iloc for positional indexing\n",
      "\n",
      "See the documentation here:\n",
      "http://pandas.pydata.org/pandas-docs/stable/indexing.html#ix-indexer-is-deprecated\n",
      "  app.launch_new_instance()\n",
      "C:\\Users\\ie-09\\AppData\\Local\\Continuum\\anaconda3\\lib\\site-packages\\ipykernel_launcher.py:18: DeprecationWarning: \n",
      ".ix is deprecated. Please use\n",
      ".loc for label based indexing or\n",
      ".iloc for positional indexing\n",
      "\n",
      "See the documentation here:\n",
      "http://pandas.pydata.org/pandas-docs/stable/indexing.html#ix-indexer-is-deprecated\n"
     ]
    },
    {
     "name": "stdout",
     "output_type": "stream",
     "text": [
      "테이큰 3  -  0  /  899\n",
      "3029\n"
     ]
    },
    {
     "ename": "WebDriverException",
     "evalue": "Message: chrome not reachable\n  (Session info: chrome=76.0.3809.87)\n",
     "output_type": "error",
     "traceback": [
      "\u001b[1;31m---------------------------------------------------------------------------\u001b[0m",
      "\u001b[1;31mWebDriverException\u001b[0m                        Traceback (most recent call last)",
      "\u001b[1;32m<ipython-input-18-65731be2b261>\u001b[0m in \u001b[0;36m<module>\u001b[1;34m()\u001b[0m\n\u001b[0;32m      2\u001b[0m \u001b[0mdf\u001b[0m \u001b[1;33m=\u001b[0m \u001b[0mpd\u001b[0m\u001b[1;33m.\u001b[0m\u001b[0mread_csv\u001b[0m\u001b[1;33m(\u001b[0m\u001b[1;34m'movieInfo.csv'\u001b[0m\u001b[1;33m,\u001b[0m \u001b[0mencoding\u001b[0m \u001b[1;33m=\u001b[0m \u001b[1;34m\"utf-8\"\u001b[0m\u001b[1;33m)\u001b[0m\u001b[1;33m\u001b[0m\u001b[0m\n\u001b[0;32m      3\u001b[0m \u001b[1;33m\u001b[0m\u001b[0m\n\u001b[1;32m----> 4\u001b[1;33m \u001b[0mgetInstaResult\u001b[0m\u001b[1;33m(\u001b[0m\u001b[1;33m)\u001b[0m\u001b[1;33m\u001b[0m\u001b[0m\n\u001b[0m",
      "\u001b[1;32m<ipython-input-17-9d825bb5762c>\u001b[0m in \u001b[0;36mgetInstaResult\u001b[1;34m()\u001b[0m\n\u001b[0;32m     57\u001b[0m             \u001b[0mdriver\u001b[0m\u001b[1;33m.\u001b[0m\u001b[0mimplicitly_wait\u001b[0m\u001b[1;33m(\u001b[0m\u001b[1;36m30\u001b[0m\u001b[1;33m)\u001b[0m\u001b[1;33m\u001b[0m\u001b[0m\n\u001b[0;32m     58\u001b[0m             \u001b[0mtime\u001b[0m\u001b[1;33m.\u001b[0m\u001b[0msleep\u001b[0m\u001b[1;33m(\u001b[0m\u001b[0mSCROLL_PAUSE_TIME\u001b[0m\u001b[1;33m)\u001b[0m\u001b[1;33m\u001b[0m\u001b[0m\n\u001b[1;32m---> 59\u001b[1;33m             \u001b[0murlcode\u001b[0m \u001b[1;33m=\u001b[0m \u001b[0mdriver\u001b[0m\u001b[1;33m.\u001b[0m\u001b[0mcurrent_url\u001b[0m\u001b[1;33m\u001b[0m\u001b[0m\n\u001b[0m\u001b[0;32m     60\u001b[0m \u001b[1;33m\u001b[0m\u001b[0m\n\u001b[0;32m     61\u001b[0m             \u001b[0murlcode_l\u001b[0m\u001b[1;33m.\u001b[0m\u001b[0mappend\u001b[0m\u001b[1;33m(\u001b[0m\u001b[0murlcode\u001b[0m\u001b[1;33m)\u001b[0m\u001b[1;33m\u001b[0m\u001b[0m\n",
      "\u001b[1;32m~\\AppData\\Local\\Continuum\\anaconda3\\lib\\site-packages\\selenium\\webdriver\\remote\\webdriver.py\u001b[0m in \u001b[0;36mcurrent_url\u001b[1;34m(self)\u001b[0m\n\u001b[0;32m    667\u001b[0m             \u001b[0mdriver\u001b[0m\u001b[1;33m.\u001b[0m\u001b[0mcurrent_url\u001b[0m\u001b[1;33m\u001b[0m\u001b[0m\n\u001b[0;32m    668\u001b[0m         \"\"\"\n\u001b[1;32m--> 669\u001b[1;33m         \u001b[1;32mreturn\u001b[0m \u001b[0mself\u001b[0m\u001b[1;33m.\u001b[0m\u001b[0mexecute\u001b[0m\u001b[1;33m(\u001b[0m\u001b[0mCommand\u001b[0m\u001b[1;33m.\u001b[0m\u001b[0mGET_CURRENT_URL\u001b[0m\u001b[1;33m)\u001b[0m\u001b[1;33m[\u001b[0m\u001b[1;34m'value'\u001b[0m\u001b[1;33m]\u001b[0m\u001b[1;33m\u001b[0m\u001b[0m\n\u001b[0m\u001b[0;32m    670\u001b[0m \u001b[1;33m\u001b[0m\u001b[0m\n\u001b[0;32m    671\u001b[0m     \u001b[1;33m@\u001b[0m\u001b[0mproperty\u001b[0m\u001b[1;33m\u001b[0m\u001b[0m\n",
      "\u001b[1;32m~\\AppData\\Local\\Continuum\\anaconda3\\lib\\site-packages\\selenium\\webdriver\\remote\\webdriver.py\u001b[0m in \u001b[0;36mexecute\u001b[1;34m(self, driver_command, params)\u001b[0m\n\u001b[0;32m    319\u001b[0m         \u001b[0mresponse\u001b[0m \u001b[1;33m=\u001b[0m \u001b[0mself\u001b[0m\u001b[1;33m.\u001b[0m\u001b[0mcommand_executor\u001b[0m\u001b[1;33m.\u001b[0m\u001b[0mexecute\u001b[0m\u001b[1;33m(\u001b[0m\u001b[0mdriver_command\u001b[0m\u001b[1;33m,\u001b[0m \u001b[0mparams\u001b[0m\u001b[1;33m)\u001b[0m\u001b[1;33m\u001b[0m\u001b[0m\n\u001b[0;32m    320\u001b[0m         \u001b[1;32mif\u001b[0m \u001b[0mresponse\u001b[0m\u001b[1;33m:\u001b[0m\u001b[1;33m\u001b[0m\u001b[0m\n\u001b[1;32m--> 321\u001b[1;33m             \u001b[0mself\u001b[0m\u001b[1;33m.\u001b[0m\u001b[0merror_handler\u001b[0m\u001b[1;33m.\u001b[0m\u001b[0mcheck_response\u001b[0m\u001b[1;33m(\u001b[0m\u001b[0mresponse\u001b[0m\u001b[1;33m)\u001b[0m\u001b[1;33m\u001b[0m\u001b[0m\n\u001b[0m\u001b[0;32m    322\u001b[0m             response['value'] = self._unwrap_value(\n\u001b[0;32m    323\u001b[0m                 response.get('value', None))\n",
      "\u001b[1;32m~\\AppData\\Local\\Continuum\\anaconda3\\lib\\site-packages\\selenium\\webdriver\\remote\\errorhandler.py\u001b[0m in \u001b[0;36mcheck_response\u001b[1;34m(self, response)\u001b[0m\n\u001b[0;32m    240\u001b[0m                 \u001b[0malert_text\u001b[0m \u001b[1;33m=\u001b[0m \u001b[0mvalue\u001b[0m\u001b[1;33m[\u001b[0m\u001b[1;34m'alert'\u001b[0m\u001b[1;33m]\u001b[0m\u001b[1;33m.\u001b[0m\u001b[0mget\u001b[0m\u001b[1;33m(\u001b[0m\u001b[1;34m'text'\u001b[0m\u001b[1;33m)\u001b[0m\u001b[1;33m\u001b[0m\u001b[0m\n\u001b[0;32m    241\u001b[0m             \u001b[1;32mraise\u001b[0m \u001b[0mexception_class\u001b[0m\u001b[1;33m(\u001b[0m\u001b[0mmessage\u001b[0m\u001b[1;33m,\u001b[0m \u001b[0mscreen\u001b[0m\u001b[1;33m,\u001b[0m \u001b[0mstacktrace\u001b[0m\u001b[1;33m,\u001b[0m \u001b[0malert_text\u001b[0m\u001b[1;33m)\u001b[0m\u001b[1;33m\u001b[0m\u001b[0m\n\u001b[1;32m--> 242\u001b[1;33m         \u001b[1;32mraise\u001b[0m \u001b[0mexception_class\u001b[0m\u001b[1;33m(\u001b[0m\u001b[0mmessage\u001b[0m\u001b[1;33m,\u001b[0m \u001b[0mscreen\u001b[0m\u001b[1;33m,\u001b[0m \u001b[0mstacktrace\u001b[0m\u001b[1;33m)\u001b[0m\u001b[1;33m\u001b[0m\u001b[0m\n\u001b[0m\u001b[0;32m    243\u001b[0m \u001b[1;33m\u001b[0m\u001b[0m\n\u001b[0;32m    244\u001b[0m     \u001b[1;32mdef\u001b[0m \u001b[0m_value_or_default\u001b[0m\u001b[1;33m(\u001b[0m\u001b[0mself\u001b[0m\u001b[1;33m,\u001b[0m \u001b[0mobj\u001b[0m\u001b[1;33m,\u001b[0m \u001b[0mkey\u001b[0m\u001b[1;33m,\u001b[0m \u001b[0mdefault\u001b[0m\u001b[1;33m)\u001b[0m\u001b[1;33m:\u001b[0m\u001b[1;33m\u001b[0m\u001b[0m\n",
      "\u001b[1;31mWebDriverException\u001b[0m: Message: chrome not reachable\n  (Session info: chrome=76.0.3809.87)\n"
     ]
    }
   ],
   "source": [
    "\n",
    "df = pd.read_csv('movieInfo.csv', encoding = \"utf-8\")\n",
    "\n",
    "getInstaResult()"
   ]
  },
  {
   "cell_type": "code",
   "execution_count": null,
   "metadata": {
    "colab": {},
    "colab_type": "code",
    "id": "LHvx1NOi9yDh"
   },
   "outputs": [],
   "source": []
  },
  {
   "cell_type": "code",
   "execution_count": 0,
   "metadata": {
    "colab": {},
    "colab_type": "code",
    "id": "BAnlYCSLsxsG"
   },
   "outputs": [],
   "source": [
    "# 기타 메모\n",
    "'''\n",
    "            try:\n",
    "                more = driver.find_element_by_css_selector(\"div#EizgU\").click()\n",
    "                for i in range(0,len(more)):\n",
    "                    if more[i].is_displayed():\n",
    "                        more[i].click()\n",
    "            except:\n",
    "                print(\"Ok----\")\n",
    "            '''\n",
    "\n",
    "\n",
    "'''\n",
    "            reple_list = []\n",
    "            for ul in uls:\n",
    "                reple = ul.find(\"span\").get_text()\n",
    "                reple_list.append(reple)\n",
    "            '''"
   ]
  }
 ],
 "metadata": {
  "colab": {
   "collapsed_sections": [],
   "name": "Crawler_Instagram.ipynb",
   "provenance": [],
   "version": "0.3.2"
  },
  "kernelspec": {
   "display_name": "Python 3",
   "language": "python",
   "name": "python3"
  },
  "language_info": {
   "codemirror_mode": {
    "name": "ipython",
    "version": 3
   },
   "file_extension": ".py",
   "mimetype": "text/x-python",
   "name": "python",
   "nbconvert_exporter": "python",
   "pygments_lexer": "ipython3",
   "version": "3.6.4"
  }
 },
 "nbformat": 4,
 "nbformat_minor": 1
}
