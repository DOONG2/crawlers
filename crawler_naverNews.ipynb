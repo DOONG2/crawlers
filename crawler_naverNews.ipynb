{
 "cells": [
  {
   "cell_type": "code",
   "execution_count": 6,
   "metadata": {},
   "outputs": [],
   "source": [
    "from bs4 import BeautifulSoup\n",
    "import urllib\n",
    "import pandas as pd"
   ]
  },
  {
   "cell_type": "code",
   "execution_count": 7,
   "metadata": {},
   "outputs": [],
   "source": [
    "data = pd.read_csv(\"movieInfo.csv\")"
   ]
  },
  {
   "cell_type": "code",
   "execution_count": 8,
   "metadata": {},
   "outputs": [
    {
     "data": {
      "text/html": [
       "<div>\n",
       "<style scoped>\n",
       "    .dataframe tbody tr th:only-of-type {\n",
       "        vertical-align: middle;\n",
       "    }\n",
       "\n",
       "    .dataframe tbody tr th {\n",
       "        vertical-align: top;\n",
       "    }\n",
       "\n",
       "    .dataframe thead th {\n",
       "        text-align: right;\n",
       "    }\n",
       "</style>\n",
       "<table border=\"1\" class=\"dataframe\">\n",
       "  <thead>\n",
       "    <tr style=\"text-align: right;\">\n",
       "      <th></th>\n",
       "      <th>Unnamed: 0</th>\n",
       "      <th>movieNm</th>\n",
       "      <th>naverCd</th>\n",
       "      <th>openDt</th>\n",
       "    </tr>\n",
       "  </thead>\n",
       "  <tbody>\n",
       "    <tr>\n",
       "      <th>0</th>\n",
       "      <td>20137048</td>\n",
       "      <td>국제시장</td>\n",
       "      <td>102875.0</td>\n",
       "      <td>2014-12-17</td>\n",
       "    </tr>\n",
       "    <tr>\n",
       "      <th>1</th>\n",
       "      <td>20143642</td>\n",
       "      <td>테이큰 3</td>\n",
       "      <td>109982.0</td>\n",
       "      <td>2015-01-01</td>\n",
       "    </tr>\n",
       "    <tr>\n",
       "      <th>2</th>\n",
       "      <td>20149859</td>\n",
       "      <td>마다가스카의 펭귄</td>\n",
       "      <td>114276.0</td>\n",
       "      <td>2014-12-31</td>\n",
       "    </tr>\n",
       "    <tr>\n",
       "      <th>3</th>\n",
       "      <td>20141111</td>\n",
       "      <td>님아, 그 강을 건너지 마오</td>\n",
       "      <td>130013.0</td>\n",
       "      <td>2014-11-27</td>\n",
       "    </tr>\n",
       "    <tr>\n",
       "      <th>4</th>\n",
       "      <td>20149265</td>\n",
       "      <td>기술자들</td>\n",
       "      <td>117790.0</td>\n",
       "      <td>2014-12-24</td>\n",
       "    </tr>\n",
       "  </tbody>\n",
       "</table>\n",
       "</div>"
      ],
      "text/plain": [
       "   Unnamed: 0          movieNm   naverCd      openDt\n",
       "0    20137048             국제시장  102875.0  2014-12-17\n",
       "1    20143642            테이큰 3  109982.0  2015-01-01\n",
       "2    20149859        마다가스카의 펭귄  114276.0  2014-12-31\n",
       "3    20141111  님아, 그 강을 건너지 마오  130013.0  2014-11-27\n",
       "4    20149265             기술자들  117790.0  2014-12-24"
      ]
     },
     "execution_count": 8,
     "metadata": {},
     "output_type": "execute_result"
    }
   ],
   "source": [
    "data.head()"
   ]
  },
  {
   "cell_type": "code",
   "execution_count": 9,
   "metadata": {},
   "outputs": [
    {
     "data": {
      "text/html": [
       "<div>\n",
       "<style scoped>\n",
       "    .dataframe tbody tr th:only-of-type {\n",
       "        vertical-align: middle;\n",
       "    }\n",
       "\n",
       "    .dataframe tbody tr th {\n",
       "        vertical-align: top;\n",
       "    }\n",
       "\n",
       "    .dataframe thead th {\n",
       "        text-align: right;\n",
       "    }\n",
       "</style>\n",
       "<table border=\"1\" class=\"dataframe\">\n",
       "  <thead>\n",
       "    <tr style=\"text-align: right;\">\n",
       "      <th></th>\n",
       "      <th>Unnamed: 0</th>\n",
       "      <th>movieNm</th>\n",
       "      <th>naverCd</th>\n",
       "      <th>openDt</th>\n",
       "    </tr>\n",
       "  </thead>\n",
       "  <tbody>\n",
       "    <tr>\n",
       "      <th>1045</th>\n",
       "      <td>20183375</td>\n",
       "      <td>극장판 포켓몬스터 모두의 이야기</td>\n",
       "      <td>172187.0</td>\n",
       "      <td>2018-12-19</td>\n",
       "    </tr>\n",
       "    <tr>\n",
       "      <th>1046</th>\n",
       "      <td>20170658</td>\n",
       "      <td>PMC: 더 벙커</td>\n",
       "      <td>166092.0</td>\n",
       "      <td>2018-12-26</td>\n",
       "    </tr>\n",
       "    <tr>\n",
       "      <th>1047</th>\n",
       "      <td>20183479</td>\n",
       "      <td>극장판 짱구는 못말려: 아뵤! 쿵후 보이즈 ~라면 대란~</td>\n",
       "      <td>172975.0</td>\n",
       "      <td>2018-12-19</td>\n",
       "    </tr>\n",
       "    <tr>\n",
       "      <th>1048</th>\n",
       "      <td>20186281</td>\n",
       "      <td>범블비</td>\n",
       "      <td>164139.0</td>\n",
       "      <td>2018-12-25</td>\n",
       "    </tr>\n",
       "    <tr>\n",
       "      <th>1049</th>\n",
       "      <td>20183785</td>\n",
       "      <td>점박이 한반도의 공룡2 : 새로운 낙원</td>\n",
       "      <td>180379.0</td>\n",
       "      <td>2018-12-25</td>\n",
       "    </tr>\n",
       "  </tbody>\n",
       "</table>\n",
       "</div>"
      ],
      "text/plain": [
       "      Unnamed: 0                          movieNm   naverCd      openDt\n",
       "1045    20183375                극장판 포켓몬스터 모두의 이야기  172187.0  2018-12-19\n",
       "1046    20170658                        PMC: 더 벙커  166092.0  2018-12-26\n",
       "1047    20183479  극장판 짱구는 못말려: 아뵤! 쿵후 보이즈 ~라면 대란~  172975.0  2018-12-19\n",
       "1048    20186281                              범블비  164139.0  2018-12-25\n",
       "1049    20183785            점박이 한반도의 공룡2 : 새로운 낙원  180379.0  2018-12-25"
      ]
     },
     "execution_count": 9,
     "metadata": {},
     "output_type": "execute_result"
    }
   ],
   "source": [
    "data.tail()"
   ]
  },
  {
   "cell_type": "code",
   "execution_count": null,
   "metadata": {},
   "outputs": [],
   "source": []
  }
 ],
 "metadata": {
  "kernelspec": {
   "display_name": "Python 3",
   "language": "python",
   "name": "python3"
  },
  "language_info": {
   "codemirror_mode": {
    "name": "ipython",
    "version": 3
   },
   "file_extension": ".py",
   "mimetype": "text/x-python",
   "name": "python",
   "nbconvert_exporter": "python",
   "pygments_lexer": "ipython3",
   "version": "3.6.4"
  }
 },
 "nbformat": 4,
 "nbformat_minor": 2
}
